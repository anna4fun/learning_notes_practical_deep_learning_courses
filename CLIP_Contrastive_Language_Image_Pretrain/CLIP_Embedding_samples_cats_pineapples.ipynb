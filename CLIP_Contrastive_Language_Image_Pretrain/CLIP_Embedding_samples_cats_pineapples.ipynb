{
 "cells": [
  {
   "cell_type": "code",
   "id": "initial_id",
   "metadata": {
    "collapsed": true,
    "ExecuteTime": {
     "end_time": "2025-10-10T22:12:46.273696Z",
     "start_time": "2025-10-10T22:12:42.546758Z"
    }
   },
   "source": [
    "import torch\n",
    "from PIL import Image\n",
    "from torchvision import transforms\n",
    "from transformers import CLIPProcessor, CLIPModel"
   ],
   "outputs": [
    {
     "name": "stderr",
     "output_type": "stream",
     "text": [
      "/Users/lcjh/Library/Python/3.9/lib/python/site-packages/torch/cuda/__init__.py:61: FutureWarning: The pynvml package is deprecated. Please install nvidia-ml-py instead. If you did not install pynvml directly, please report this to the maintainers of the package that installed pynvml for you.\n",
      "  import pynvml  # type: ignore[import]\n",
      "/Users/lcjh/Library/Python/3.9/lib/python/site-packages/urllib3/__init__.py:35: NotOpenSSLWarning: urllib3 v2 only supports OpenSSL 1.1.1+, currently the 'ssl' module is compiled with 'LibreSSL 2.8.3'. See: https://github.com/urllib3/urllib3/issues/3020\n",
      "  warnings.warn(\n"
     ]
    }
   ],
   "execution_count": 1
  },
  {
   "metadata": {
    "ExecuteTime": {
     "end_time": "2025-10-10T22:12:48.481249Z",
     "start_time": "2025-10-10T22:12:48.478935Z"
    }
   },
   "cell_type": "code",
   "source": [
    "try:\n",
    "    import accelerate\n",
    "    print(f\"accelerate is installed: version {accelerate.__version__}\")\n",
    "except ImportError:\n",
    "    print(\"accelerate is NOT installed in this environment\")"
   ],
   "id": "688597d01dd21b5a",
   "outputs": [
    {
     "name": "stdout",
     "output_type": "stream",
     "text": [
      "accelerate is installed: version 1.10.1\n"
     ]
    }
   ],
   "execution_count": 2
  },
  {
   "metadata": {
    "ExecuteTime": {
     "end_time": "2025-10-10T22:12:50.271421Z",
     "start_time": "2025-10-10T22:12:50.245764Z"
    }
   },
   "cell_type": "code",
   "source": [
    "# get the device\n",
    "if torch.cuda.is_available():\n",
    "    device = \"cuda\"\n",
    "elif torch.backends.mps.is_available():\n",
    "    device = \"mps\"\n",
    "else:\n",
    "    device = \"cpu\""
   ],
   "id": "ddb01e10cf369a92",
   "outputs": [],
   "execution_count": 3
  },
  {
   "metadata": {
    "ExecuteTime": {
     "end_time": "2025-10-10T22:12:51.930801Z",
     "start_time": "2025-10-10T22:12:51.793851Z"
    }
   },
   "cell_type": "code",
   "source": "!ls",
   "id": "5e8a25ee1eaaa195",
   "outputs": [
    {
     "name": "stdout",
     "output_type": "stream",
     "text": [
      "\u001B[34mblog_pics\u001B[m\u001B[m\r\n",
      "CLIP_Embedding_samples_cats_pineapples.ipynb\r\n",
      "\u001B[34mimages\u001B[m\u001B[m\r\n",
      "README.md\r\n"
     ]
    }
   ],
   "execution_count": 4
  },
  {
   "metadata": {
    "ExecuteTime": {
     "end_time": "2025-10-10T22:13:24.643797Z",
     "start_time": "2025-10-10T22:13:22.886947Z"
    }
   },
   "cell_type": "code",
   "source": [
    "# 1. Load pretrained CLIP model and processor\n",
    "model = CLIPModel.from_pretrained(\"openai/clip-vit-base-patch32\").to(device)\n",
    "processor = CLIPProcessor.from_pretrained(\"openai/clip-vit-base-patch32\")"
   ],
   "id": "e5d466d773929c99",
   "outputs": [],
   "execution_count": 6
  },
  {
   "metadata": {
    "ExecuteTime": {
     "end_time": "2025-10-10T22:13:26.957737Z",
     "start_time": "2025-10-10T22:13:26.940939Z"
    }
   },
   "cell_type": "code",
   "source": [
    "# 2. Load example images\n",
    "cat_image = Image.open(\"images/cat.png\")\n",
    "pineapple_image = Image.open(\"images/pineapple.png\")"
   ],
   "id": "974e2a74cb66c7b9",
   "outputs": [],
   "execution_count": 7
  },
  {
   "metadata": {
    "ExecuteTime": {
     "end_time": "2025-10-10T22:13:56.403453Z",
     "start_time": "2025-10-10T22:13:56.379491Z"
    }
   },
   "cell_type": "code",
   "source": [
    "# 3. Define the text prompts\n",
    "texts = [\"a photo of a cat\", \"a photo of a pineapple\"]\n",
    "\n",
    "# 4. Preprocess the data\n",
    "inputs = processor(\n",
    "    text=texts,\n",
    "    images=[cat_image, pineapple_image],\n",
    "    return_tensors=\"pt\",\n",
    "    padding=True\n",
    ").to(device)"
   ],
   "id": "d3c7f0745af88fe1",
   "outputs": [],
   "execution_count": 10
  },
  {
   "metadata": {
    "ExecuteTime": {
     "end_time": "2025-10-10T22:14:00.066826Z",
     "start_time": "2025-10-10T22:13:58.130283Z"
    }
   },
   "cell_type": "code",
   "source": [
    "# 5. Forward pass\n",
    "with torch.no_grad():\n",
    "    outputs = model(**inputs)\n",
    "    image_embeds = outputs.image_embeds    # shape [2, 512]\n",
    "    text_embeds = outputs.text_embeds      # shape [2, 512]"
   ],
   "id": "7c220045f5f7d49d",
   "outputs": [],
   "execution_count": 11
  },
  {
   "metadata": {
    "ExecuteTime": {
     "end_time": "2025-10-10T22:14:03.578044Z",
     "start_time": "2025-10-10T22:14:03.512283Z"
    }
   },
   "cell_type": "code",
   "source": [
    "# 6. Normalize embeddings (L2 normalization)\n",
    "image_embeds = image_embeds / image_embeds.norm(dim=-1, keepdim=True)\n",
    "text_embeds = text_embeds / text_embeds.norm(dim=-1, keepdim=True)"
   ],
   "id": "21ec44244cd20b7a",
   "outputs": [],
   "execution_count": 12
  },
  {
   "metadata": {
    "ExecuteTime": {
     "end_time": "2025-10-10T22:14:05.313238Z",
     "start_time": "2025-10-10T22:14:05.233495Z"
    }
   },
   "cell_type": "code",
   "source": [
    "# 7. Compute cosine similarities\n",
    "cosine_sim = image_embeds @ text_embeds.T  # 2x2 matrix\n",
    "print(\"Cosine similarity matrix:\")\n",
    "print(cosine_sim)"
   ],
   "id": "cbe62fd070752489",
   "outputs": [
    {
     "name": "stdout",
     "output_type": "stream",
     "text": [
      "Cosine similarity matrix:\n",
      "tensor([[0.2832, 0.2036],\n",
      "        [0.1956, 0.3286]], device='mps:0')\n"
     ]
    }
   ],
   "execution_count": 13
  },
  {
   "metadata": {},
   "cell_type": "code",
   "outputs": [],
   "execution_count": null,
   "source": "",
   "id": "398b59543b2cabcd"
  }
 ],
 "metadata": {
  "kernelspec": {
   "display_name": "Python 3",
   "language": "python",
   "name": "python3"
  },
  "language_info": {
   "codemirror_mode": {
    "name": "ipython",
    "version": 2
   },
   "file_extension": ".py",
   "mimetype": "text/x-python",
   "name": "python",
   "nbconvert_exporter": "python",
   "pygments_lexer": "ipython2",
   "version": "2.7.6"
  }
 },
 "nbformat": 4,
 "nbformat_minor": 5
}
